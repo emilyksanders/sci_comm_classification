{
 "cells": [
  {
   "cell_type": "markdown",
   "id": "941b52fa-8c64-4f38-92f1-e6c256ea313a",
   "metadata": {},
   "source": [
    "# **Explain Like I'm Not a Scientist**\n",
    "### *An exploration of (not so) scientific communication*\n",
    "| | | | | | | | | | | | | | | | | | | | | | | | | | | | | | | | | | |\n",
    "|-|-|-|-|-|-|-|-|-|-|-|-|-|-|-|-|-|-|-|-|-|-|-|-|-|-|-|-|-|-|-|-|-|-|\n",
    "|Emily K. Sanders| | | | | | | | | | | | | | | | | | | | | | | | | | | | | | | | |Project 3: NLP|\n",
    "|DSB-318| | | | | | | | | | | | | | | | | | | | | | | | | | | | | | | | |May 3, 2024|\n",
    "---\n",
    "###### *A report for the 2024 Greater Lafayette Association for Data Science Conference on Activism for a Thriving Society*"
   ]
  },
  {
   "cell_type": "markdown",
   "id": "0929c5c7-81bc-4a05-9fbb-953a7ebce0f6",
   "metadata": {},
   "source": [
    "## Prior Notebooks Summary"
   ]
  },
  {
   "cell_type": "markdown",
   "id": "89a36616-eec2-46a5-a786-0f923d3ce2bb",
   "metadata": {},
   "source": [
    "In the previous notebooks, I introduced the project, explained the method, and conducted feature engineering and exploratory data analysis.  I showed that my sample is large (n = 9495), but has severely imbalanced classes.\n",
    "\n",
    "In this notebook, I will conduct my train test split and model fitting.  For purposes of reproducibility, I have used a random state of [113](https://harrypotter.fandom.com/wiki/Sirius_Black) throughout."
   ]
  },
  {
   "cell_type": "markdown",
   "id": "4cc23f7b-e1b5-4ef7-a6c3-b9e022f276e2",
   "metadata": {},
   "source": [
    "## Modeling"
   ]
  },
  {
   "cell_type": "code",
   "execution_count": 2,
   "id": "eba88e40-6ecd-495a-bc73-96e2ec181cc9",
   "metadata": {},
   "outputs": [],
   "source": [
    "# Imports\n",
    "import pandas as pd       \n",
    "import matplotlib.pyplot as plt\n",
    "import os\n",
    "import numpy as np\n",
    "from datetime import datetime, date, time\n",
    "from nltk.corpus import stopwords\n",
    "from sklearn.model_selection import train_test_split, GridSearchCV, cross_val_score\n",
    "from sklearn.pipeline import Pipeline\n",
    "from sklearn.naive_bayes import MultinomialNB\n",
    "from sklearn.linear_model import LogisticRegression\n",
    "from sklearn.metrics import confusion_matrix, ConfusionMatrixDisplay\n",
    "from sklearn.feature_extraction.text import CountVectorizer"
   ]
  },
  {
   "cell_type": "code",
   "execution_count": 3,
   "id": "eaf842d3-2908-4a2f-afa8-5a358b13c780",
   "metadata": {},
   "outputs": [
    {
     "name": "stdout",
     "output_type": "stream",
     "text": [
      "(9495,) (9495,)\n"
     ]
    },
    {
     "data": {
      "text/plain": [
       "source\n",
       "1    0.622433\n",
       "0    0.377567\n",
       "Name: proportion, dtype: float64"
      ]
     },
     "execution_count": 3,
     "metadata": {},
     "output_type": "execute_result"
    }
   ],
   "source": [
    "# Read in the dataframe\n",
    "scrapes = pd.read_csv('../data/input/final-df.csv')\n",
    "\n",
    "# Define X and y\n",
    "X = scrapes['text']\n",
    "y = scrapes['source']\n",
    "\n",
    "# Collapse categories in y\n",
    "y = y.map({'askp-comments':0, 'askp':0, 'eli5-comments':1, 'eli5':1})\n",
    "\n",
    "# Make sure it looks right\n",
    "print(X.shape, y.shape)\n",
    "y.value_counts(dropna = False, normalize = True)"
   ]
  },
  {
   "cell_type": "markdown",
   "id": "49dbc3e0-1586-4ea6-b5cf-4cdd8f9a3b75",
   "metadata": {},
   "source": [
    "In the following cells, I fit logistic regressions and naive bayes models, both using CountVectorizer to tokenize and count the words. I used pipelines and gridsearching to test different parameters in search of the best performing model.  I also tested stop words, both the default English stop words in NLTK, and that list plus variations on the subreddit names."
   ]
  },
  {
   "cell_type": "markdown",
   "id": "d97a6d46-49f0-4f27-b0fa-2021ed11d977",
   "metadata": {},
   "source": [
    "### Instantiations and Test Train Split"
   ]
  },
  {
   "cell_type": "code",
   "execution_count": 4,
   "id": "7ab23b66-8b89-4396-9a5c-9f9e7bb70252",
   "metadata": {},
   "outputs": [],
   "source": [
    "# Instantiations\n",
    "cvec = CountVectorizer(decode_error = 'ignore', strip_accents = 'unicode')\n",
    "logr = LogisticRegression(random_state = 113, solver = 'saga')\n",
    "#saga was the only one who could handle all of the penalty types I wanted to try\n",
    "mnnb = MultinomialNB()"
   ]
  },
  {
   "cell_type": "code",
   "execution_count": 5,
   "id": "8592819d-8d58-45c0-b156-c3b78d0c5eba",
   "metadata": {},
   "outputs": [
    {
     "name": "stdout",
     "output_type": "stream",
     "text": [
      "(7121,) (7121,)\n",
      "(2374,) (2374,)\n"
     ]
    }
   ],
   "source": [
    "# Train Test Split\n",
    "X_train, X_test, y_train, y_test = train_test_split(\n",
    "  X, y, test_size = 0.25, stratify = y, random_state = 113)\n",
    "print(X_train.shape, y_train.shape)  #(7121,) (7121,)\n",
    "print(X_test.shape, y_test.shape)  #(2374,) (2374,)"
   ]
  },
  {
   "cell_type": "code",
   "execution_count": 6,
   "id": "04d14eec-a952-467d-b0f3-75980f3b89ba",
   "metadata": {},
   "outputs": [],
   "source": [
    "# Define custom stop words\n",
    "nltk_stop_words = list(stopwords.words('english'))\n",
    "my_stop_words = [\n",
    "  'eli5', 'eli', 'explainlikeim5', 'explainlikeimfive',\n",
    "  'physics', 'pyhsics' 'physiks', 'fisiks', 'physic', \n",
    "  'physik', 'askphysics', 'askphysik', 'askphysiks']\n",
    "custom_stop_words = nltk_stop_words + my_stop_words\n",
    "custom_stop_words = custom_stop_words.copy()"
   ]
  },
  {
   "cell_type": "markdown",
   "id": "6a490978-1c45-490d-b2dd-77577eb0c1c3",
   "metadata": {},
   "source": [
    "### Model 1: Logistic Regression"
   ]
  },
  {
   "cell_type": "code",
   "execution_count": 9,
   "id": "4e07b841-45b4-470b-a81e-0a17cbd04fef",
   "metadata": {},
   "outputs": [
    {
     "name": "stdout",
     "output_type": "stream",
     "text": [
      "Fitting 5 folds for each of 16 candidates, totalling 80 fits\n"
     ]
    },
    {
     "name": "stderr",
     "output_type": "stream",
     "text": [
      "C:\\Users\\emily\\anaconda3\\Lib\\site-packages\\sklearn\\linear_model\\_sag.py:350: ConvergenceWarning: The max_iter was reached which means the coef_ did not converge\n",
      "  warnings.warn(\n"
     ]
    },
    {
     "data": {
      "text/html": [
       "<style>#sk-container-id-1 {color: black;background-color: white;}#sk-container-id-1 pre{padding: 0;}#sk-container-id-1 div.sk-toggleable {background-color: white;}#sk-container-id-1 label.sk-toggleable__label {cursor: pointer;display: block;width: 100%;margin-bottom: 0;padding: 0.3em;box-sizing: border-box;text-align: center;}#sk-container-id-1 label.sk-toggleable__label-arrow:before {content: \"▸\";float: left;margin-right: 0.25em;color: #696969;}#sk-container-id-1 label.sk-toggleable__label-arrow:hover:before {color: black;}#sk-container-id-1 div.sk-estimator:hover label.sk-toggleable__label-arrow:before {color: black;}#sk-container-id-1 div.sk-toggleable__content {max-height: 0;max-width: 0;overflow: hidden;text-align: left;background-color: #f0f8ff;}#sk-container-id-1 div.sk-toggleable__content pre {margin: 0.2em;color: black;border-radius: 0.25em;background-color: #f0f8ff;}#sk-container-id-1 input.sk-toggleable__control:checked~div.sk-toggleable__content {max-height: 200px;max-width: 100%;overflow: auto;}#sk-container-id-1 input.sk-toggleable__control:checked~label.sk-toggleable__label-arrow:before {content: \"▾\";}#sk-container-id-1 div.sk-estimator input.sk-toggleable__control:checked~label.sk-toggleable__label {background-color: #d4ebff;}#sk-container-id-1 div.sk-label input.sk-toggleable__control:checked~label.sk-toggleable__label {background-color: #d4ebff;}#sk-container-id-1 input.sk-hidden--visually {border: 0;clip: rect(1px 1px 1px 1px);clip: rect(1px, 1px, 1px, 1px);height: 1px;margin: -1px;overflow: hidden;padding: 0;position: absolute;width: 1px;}#sk-container-id-1 div.sk-estimator {font-family: monospace;background-color: #f0f8ff;border: 1px dotted black;border-radius: 0.25em;box-sizing: border-box;margin-bottom: 0.5em;}#sk-container-id-1 div.sk-estimator:hover {background-color: #d4ebff;}#sk-container-id-1 div.sk-parallel-item::after {content: \"\";width: 100%;border-bottom: 1px solid gray;flex-grow: 1;}#sk-container-id-1 div.sk-label:hover label.sk-toggleable__label {background-color: #d4ebff;}#sk-container-id-1 div.sk-serial::before {content: \"\";position: absolute;border-left: 1px solid gray;box-sizing: border-box;top: 0;bottom: 0;left: 50%;z-index: 0;}#sk-container-id-1 div.sk-serial {display: flex;flex-direction: column;align-items: center;background-color: white;padding-right: 0.2em;padding-left: 0.2em;position: relative;}#sk-container-id-1 div.sk-item {position: relative;z-index: 1;}#sk-container-id-1 div.sk-parallel {display: flex;align-items: stretch;justify-content: center;background-color: white;position: relative;}#sk-container-id-1 div.sk-item::before, #sk-container-id-1 div.sk-parallel-item::before {content: \"\";position: absolute;border-left: 1px solid gray;box-sizing: border-box;top: 0;bottom: 0;left: 50%;z-index: -1;}#sk-container-id-1 div.sk-parallel-item {display: flex;flex-direction: column;z-index: 1;position: relative;background-color: white;}#sk-container-id-1 div.sk-parallel-item:first-child::after {align-self: flex-end;width: 50%;}#sk-container-id-1 div.sk-parallel-item:last-child::after {align-self: flex-start;width: 50%;}#sk-container-id-1 div.sk-parallel-item:only-child::after {width: 0;}#sk-container-id-1 div.sk-dashed-wrapped {border: 1px dashed gray;margin: 0 0.4em 0.5em 0.4em;box-sizing: border-box;padding-bottom: 0.4em;background-color: white;}#sk-container-id-1 div.sk-label label {font-family: monospace;font-weight: bold;display: inline-block;line-height: 1.2em;}#sk-container-id-1 div.sk-label-container {text-align: center;}#sk-container-id-1 div.sk-container {/* jupyter's `normalize.less` sets `[hidden] { display: none; }` but bootstrap.min.css set `[hidden] { display: none !important; }` so we also need the `!important` here to be able to override the default hidden behavior on the sphinx rendered scikit-learn.org. See: https://github.com/scikit-learn/scikit-learn/issues/21755 */display: inline-block !important;position: relative;}#sk-container-id-1 div.sk-text-repr-fallback {display: none;}</style><div id=\"sk-container-id-1\" class=\"sk-top-container\"><div class=\"sk-text-repr-fallback\"><pre>GridSearchCV(cv=5,\n",
       "             estimator=Pipeline(steps=[(&#x27;cvec&#x27;,\n",
       "                                        CountVectorizer(decode_error=&#x27;ignore&#x27;,\n",
       "                                                        strip_accents=&#x27;unicode&#x27;)),\n",
       "                                       (&#x27;logr&#x27;,\n",
       "                                        LogisticRegression(random_state=113,\n",
       "                                                           solver=&#x27;saga&#x27;))]),\n",
       "             n_jobs=-1,\n",
       "             param_grid={&#x27;cvec__max_df&#x27;: [0.75, 0.95],\n",
       "                         &#x27;cvec__max_features&#x27;: [1000], &#x27;cvec__min_df&#x27;: [2, 3],\n",
       "                         &#x27;cvec__ngram_range&#x27;: [(1, 1)],\n",
       "                         &#x27;cvec__stop_words&#x27;: [None,\n",
       "                                              [&#x27;i&#x27;, &#x27;me&#x27;, &#x27;my&#x27;, &#x27;myself&#x27;, &#x27;we&#x27;,\n",
       "                                               &#x27;our&#x27;, &#x27;ours&#x27;, &#x27;ourselves&#x27;,\n",
       "                                               &#x27;you&#x27;, &quot;you&#x27;re&quot;, &quot;you&#x27;ve&quot;,\n",
       "                                               &quot;you&#x27;ll&quot;, &quot;you&#x27;d&quot;, &#x27;your&#x27;,\n",
       "                                               &#x27;yours&#x27;, &#x27;yourself&#x27;,\n",
       "                                               &#x27;yourselves&#x27;, &#x27;he&#x27;, &#x27;him&#x27;, &#x27;his&#x27;,\n",
       "                                               &#x27;himself&#x27;, &#x27;she&#x27;, &quot;she&#x27;s&quot;, &#x27;her&#x27;,\n",
       "                                               &#x27;hers&#x27;, &#x27;herself&#x27;, &#x27;it&#x27;, &quot;it&#x27;s&quot;,\n",
       "                                               &#x27;its&#x27;, &#x27;itself&#x27;, ...]],\n",
       "                         &#x27;logr__C&#x27;: [1], &#x27;logr__penalty&#x27;: [&#x27;l1&#x27;, &#x27;l2&#x27;]},\n",
       "             verbose=3)</pre><b>In a Jupyter environment, please rerun this cell to show the HTML representation or trust the notebook. <br />On GitHub, the HTML representation is unable to render, please try loading this page with nbviewer.org.</b></div><div class=\"sk-container\" hidden><div class=\"sk-item sk-dashed-wrapped\"><div class=\"sk-label-container\"><div class=\"sk-label sk-toggleable\"><input class=\"sk-toggleable__control sk-hidden--visually\" id=\"sk-estimator-id-1\" type=\"checkbox\" ><label for=\"sk-estimator-id-1\" class=\"sk-toggleable__label sk-toggleable__label-arrow\">GridSearchCV</label><div class=\"sk-toggleable__content\"><pre>GridSearchCV(cv=5,\n",
       "             estimator=Pipeline(steps=[(&#x27;cvec&#x27;,\n",
       "                                        CountVectorizer(decode_error=&#x27;ignore&#x27;,\n",
       "                                                        strip_accents=&#x27;unicode&#x27;)),\n",
       "                                       (&#x27;logr&#x27;,\n",
       "                                        LogisticRegression(random_state=113,\n",
       "                                                           solver=&#x27;saga&#x27;))]),\n",
       "             n_jobs=-1,\n",
       "             param_grid={&#x27;cvec__max_df&#x27;: [0.75, 0.95],\n",
       "                         &#x27;cvec__max_features&#x27;: [1000], &#x27;cvec__min_df&#x27;: [2, 3],\n",
       "                         &#x27;cvec__ngram_range&#x27;: [(1, 1)],\n",
       "                         &#x27;cvec__stop_words&#x27;: [None,\n",
       "                                              [&#x27;i&#x27;, &#x27;me&#x27;, &#x27;my&#x27;, &#x27;myself&#x27;, &#x27;we&#x27;,\n",
       "                                               &#x27;our&#x27;, &#x27;ours&#x27;, &#x27;ourselves&#x27;,\n",
       "                                               &#x27;you&#x27;, &quot;you&#x27;re&quot;, &quot;you&#x27;ve&quot;,\n",
       "                                               &quot;you&#x27;ll&quot;, &quot;you&#x27;d&quot;, &#x27;your&#x27;,\n",
       "                                               &#x27;yours&#x27;, &#x27;yourself&#x27;,\n",
       "                                               &#x27;yourselves&#x27;, &#x27;he&#x27;, &#x27;him&#x27;, &#x27;his&#x27;,\n",
       "                                               &#x27;himself&#x27;, &#x27;she&#x27;, &quot;she&#x27;s&quot;, &#x27;her&#x27;,\n",
       "                                               &#x27;hers&#x27;, &#x27;herself&#x27;, &#x27;it&#x27;, &quot;it&#x27;s&quot;,\n",
       "                                               &#x27;its&#x27;, &#x27;itself&#x27;, ...]],\n",
       "                         &#x27;logr__C&#x27;: [1], &#x27;logr__penalty&#x27;: [&#x27;l1&#x27;, &#x27;l2&#x27;]},\n",
       "             verbose=3)</pre></div></div></div><div class=\"sk-parallel\"><div class=\"sk-parallel-item\"><div class=\"sk-item\"><div class=\"sk-label-container\"><div class=\"sk-label sk-toggleable\"><input class=\"sk-toggleable__control sk-hidden--visually\" id=\"sk-estimator-id-2\" type=\"checkbox\" ><label for=\"sk-estimator-id-2\" class=\"sk-toggleable__label sk-toggleable__label-arrow\">estimator: Pipeline</label><div class=\"sk-toggleable__content\"><pre>Pipeline(steps=[(&#x27;cvec&#x27;,\n",
       "                 CountVectorizer(decode_error=&#x27;ignore&#x27;,\n",
       "                                 strip_accents=&#x27;unicode&#x27;)),\n",
       "                (&#x27;logr&#x27;, LogisticRegression(random_state=113, solver=&#x27;saga&#x27;))])</pre></div></div></div><div class=\"sk-serial\"><div class=\"sk-item\"><div class=\"sk-serial\"><div class=\"sk-item\"><div class=\"sk-estimator sk-toggleable\"><input class=\"sk-toggleable__control sk-hidden--visually\" id=\"sk-estimator-id-3\" type=\"checkbox\" ><label for=\"sk-estimator-id-3\" class=\"sk-toggleable__label sk-toggleable__label-arrow\">CountVectorizer</label><div class=\"sk-toggleable__content\"><pre>CountVectorizer(decode_error=&#x27;ignore&#x27;, strip_accents=&#x27;unicode&#x27;)</pre></div></div></div><div class=\"sk-item\"><div class=\"sk-estimator sk-toggleable\"><input class=\"sk-toggleable__control sk-hidden--visually\" id=\"sk-estimator-id-4\" type=\"checkbox\" ><label for=\"sk-estimator-id-4\" class=\"sk-toggleable__label sk-toggleable__label-arrow\">LogisticRegression</label><div class=\"sk-toggleable__content\"><pre>LogisticRegression(random_state=113, solver=&#x27;saga&#x27;)</pre></div></div></div></div></div></div></div></div></div></div></div></div>"
      ],
      "text/plain": [
       "GridSearchCV(cv=5,\n",
       "             estimator=Pipeline(steps=[('cvec',\n",
       "                                        CountVectorizer(decode_error='ignore',\n",
       "                                                        strip_accents='unicode')),\n",
       "                                       ('logr',\n",
       "                                        LogisticRegression(random_state=113,\n",
       "                                                           solver='saga'))]),\n",
       "             n_jobs=-1,\n",
       "             param_grid={'cvec__max_df': [0.75, 0.95],\n",
       "                         'cvec__max_features': [1000], 'cvec__min_df': [2, 3],\n",
       "                         'cvec__ngram_range': [(1, 1)],\n",
       "                         'cvec__stop_words': [None,\n",
       "                                              ['i', 'me', 'my', 'myself', 'we',\n",
       "                                               'our', 'ours', 'ourselves',\n",
       "                                               'you', \"you're\", \"you've\",\n",
       "                                               \"you'll\", \"you'd\", 'your',\n",
       "                                               'yours', 'yourself',\n",
       "                                               'yourselves', 'he', 'him', 'his',\n",
       "                                               'himself', 'she', \"she's\", 'her',\n",
       "                                               'hers', 'herself', 'it', \"it's\",\n",
       "                                               'its', 'itself', ...]],\n",
       "                         'logr__C': [1], 'logr__penalty': ['l1', 'l2']},\n",
       "             verbose=3)"
      ]
     },
     "execution_count": 9,
     "metadata": {},
     "output_type": "execute_result"
    }
   ],
   "source": [
    "# Pipeline with cvec and logistic regression\n",
    "\n",
    "cl_pipe = Pipeline([\n",
    "  ('cvec', cvec), \n",
    "  ('logr', logr)])\n",
    "\n",
    "cl_pipe_params = {\n",
    "  'cvec__stop_words': [None, custom_stop_words],\n",
    "  'cvec__ngram_range': [(1,1)],\n",
    "  'cvec__max_df': [0.75, 0.95],\n",
    "  'cvec__min_df': [2, 3],\n",
    "  'cvec__max_features': [1000],\n",
    "  'logr__penalty': ['l1', 'l2'],\n",
    "  'logr__C': [1]\n",
    "  }\n",
    "\n",
    "np.random.seed(113)\n",
    "cl_gs = GridSearchCV(\n",
    "  cl_pipe, param_grid = cl_pipe_params, cv = 5,\n",
    "  verbose = 3, n_jobs = -1)\n",
    "\n",
    "# Gridsearch and fit on the training set\n",
    "cl_gs.fit(X_train, y_train)"
   ]
  },
  {
   "cell_type": "code",
   "execution_count": 17,
   "id": "00453b1e-3d41-4aba-86d0-5100ac04abd9",
   "metadata": {},
   "outputs": [
    {
     "data": {
      "text/plain": [
       "{'cvec__max_df': 0.75,\n",
       " 'cvec__max_features': 1000,\n",
       " 'cvec__min_df': 2,\n",
       " 'cvec__ngram_range': (1, 1),\n",
       " 'cvec__stop_words': None,\n",
       " 'logr__C': 1,\n",
       " 'logr__penalty': 'l2'}"
      ]
     },
     "execution_count": 17,
     "metadata": {},
     "output_type": "execute_result"
    }
   ],
   "source": [
    "# See which parameters it picked\n",
    "cl_gs.best_params_"
   ]
  },
  {
   "cell_type": "code",
   "execution_count": 13,
   "id": "a0938bee-19ea-4631-89b7-728e76863ec0",
   "metadata": {},
   "outputs": [
    {
     "data": {
      "text/plain": [
       "0.8724898188456678"
      ]
     },
     "execution_count": 13,
     "metadata": {},
     "output_type": "execute_result"
    }
   ],
   "source": [
    "# Score the model on the training set\n",
    "cl_gs.score(X_train, y_train)"
   ]
  },
  {
   "cell_type": "code",
   "execution_count": 14,
   "id": "68807412-c646-425b-9fb8-ded95cb4315b",
   "metadata": {},
   "outputs": [
    {
     "data": {
      "text/plain": [
       "0.8513058129738837"
      ]
     },
     "execution_count": 14,
     "metadata": {},
     "output_type": "execute_result"
    }
   ],
   "source": [
    "# Score the model on the testing set\n",
    "cl_gs.score(X_test, y_test)"
   ]
  },
  {
   "cell_type": "markdown",
   "id": "386df02c-480d-4479-af13-84f5bdf505f6",
   "metadata": {},
   "source": [
    "This model is already decent, accurately classifying upwards of 80% of the documents.  It doe display some variance though, with a training set several points better than the testing set."
   ]
  },
  {
   "cell_type": "code",
   "execution_count": 16,
   "id": "52abced9-dfbf-437f-835e-94944efe07d8",
   "metadata": {},
   "outputs": [
    {
     "data": {
      "image/png": "[encoded data removed]",
      "text/plain": [
       "<Figure size 640x480 with 2 Axes>"
      ]
     },
     "metadata": {},
     "output_type": "display_data"
    }
   ],
   "source": [
    "# Get predictions on the testing set\n",
    "yhat_model = cl_gs.predict(X_test)\n",
    "\n",
    "# Generate confusion matrix values\n",
    "cm = confusion_matrix(y_test, yhat_model)\n",
    "\n",
    "# Save confusion matrix values\n",
    "tn, fp, fn, tp = cm.ravel()\n",
    "\n",
    "# Generate confusion matrix\n",
    "cmd = ConfusionMatrixDisplay(confusion_matrix=cm)\n",
    "cmd.plot();"
   ]
  },
  {
   "cell_type": "markdown",
   "id": "b8dd3bd5-a022-4e2b-9ebc-419be29ed2b7",
   "metadata": {},
   "source": [
    "Note, the labels correpsond to 0 for AskPhysics, and 1 for eli5."
   ]
  },
  {
   "cell_type": "markdown",
   "id": "6a59be10-0959-4902-9bc5-69c5433e44ea",
   "metadata": {},
   "source": [
    "### Model 2: Multinomial Naive Bayes"
   ]
  },
  {
   "cell_type": "code",
   "execution_count": 7,
   "id": "42281e42-c4f5-47cb-af2e-8be7979c0044",
   "metadata": {},
   "outputs": [
    {
     "name": "stdout",
     "output_type": "stream",
     "text": [
      "Fitting 5 folds for each of 16 candidates, totalling 80 fits\n"
     ]
    },
    {
     "data": {
      "text/html": [
       "<style>#sk-container-id-1 {color: black;background-color: white;}#sk-container-id-1 pre{padding: 0;}#sk-container-id-1 div.sk-toggleable {background-color: white;}#sk-container-id-1 label.sk-toggleable__label {cursor: pointer;display: block;width: 100%;margin-bottom: 0;padding: 0.3em;box-sizing: border-box;text-align: center;}#sk-container-id-1 label.sk-toggleable__label-arrow:before {content: \"▸\";float: left;margin-right: 0.25em;color: #696969;}#sk-container-id-1 label.sk-toggleable__label-arrow:hover:before {color: black;}#sk-container-id-1 div.sk-estimator:hover label.sk-toggleable__label-arrow:before {color: black;}#sk-container-id-1 div.sk-toggleable__content {max-height: 0;max-width: 0;overflow: hidden;text-align: left;background-color: #f0f8ff;}#sk-container-id-1 div.sk-toggleable__content pre {margin: 0.2em;color: black;border-radius: 0.25em;background-color: #f0f8ff;}#sk-container-id-1 input.sk-toggleable__control:checked~div.sk-toggleable__content {max-height: 200px;max-width: 100%;overflow: auto;}#sk-container-id-1 input.sk-toggleable__control:checked~label.sk-toggleable__label-arrow:before {content: \"▾\";}#sk-container-id-1 div.sk-estimator input.sk-toggleable__control:checked~label.sk-toggleable__label {background-color: #d4ebff;}#sk-container-id-1 div.sk-label input.sk-toggleable__control:checked~label.sk-toggleable__label {background-color: #d4ebff;}#sk-container-id-1 input.sk-hidden--visually {border: 0;clip: rect(1px 1px 1px 1px);clip: rect(1px, 1px, 1px, 1px);height: 1px;margin: -1px;overflow: hidden;padding: 0;position: absolute;width: 1px;}#sk-container-id-1 div.sk-estimator {font-family: monospace;background-color: #f0f8ff;border: 1px dotted black;border-radius: 0.25em;box-sizing: border-box;margin-bottom: 0.5em;}#sk-container-id-1 div.sk-estimator:hover {background-color: #d4ebff;}#sk-container-id-1 div.sk-parallel-item::after {content: \"\";width: 100%;border-bottom: 1px solid gray;flex-grow: 1;}#sk-container-id-1 div.sk-label:hover label.sk-toggleable__label {background-color: #d4ebff;}#sk-container-id-1 div.sk-serial::before {content: \"\";position: absolute;border-left: 1px solid gray;box-sizing: border-box;top: 0;bottom: 0;left: 50%;z-index: 0;}#sk-container-id-1 div.sk-serial {display: flex;flex-direction: column;align-items: center;background-color: white;padding-right: 0.2em;padding-left: 0.2em;position: relative;}#sk-container-id-1 div.sk-item {position: relative;z-index: 1;}#sk-container-id-1 div.sk-parallel {display: flex;align-items: stretch;justify-content: center;background-color: white;position: relative;}#sk-container-id-1 div.sk-item::before, #sk-container-id-1 div.sk-parallel-item::before {content: \"\";position: absolute;border-left: 1px solid gray;box-sizing: border-box;top: 0;bottom: 0;left: 50%;z-index: -1;}#sk-container-id-1 div.sk-parallel-item {display: flex;flex-direction: column;z-index: 1;position: relative;background-color: white;}#sk-container-id-1 div.sk-parallel-item:first-child::after {align-self: flex-end;width: 50%;}#sk-container-id-1 div.sk-parallel-item:last-child::after {align-self: flex-start;width: 50%;}#sk-container-id-1 div.sk-parallel-item:only-child::after {width: 0;}#sk-container-id-1 div.sk-dashed-wrapped {border: 1px dashed gray;margin: 0 0.4em 0.5em 0.4em;box-sizing: border-box;padding-bottom: 0.4em;background-color: white;}#sk-container-id-1 div.sk-label label {font-family: monospace;font-weight: bold;display: inline-block;line-height: 1.2em;}#sk-container-id-1 div.sk-label-container {text-align: center;}#sk-container-id-1 div.sk-container {/* jupyter's `normalize.less` sets `[hidden] { display: none; }` but bootstrap.min.css set `[hidden] { display: none !important; }` so we also need the `!important` here to be able to override the default hidden behavior on the sphinx rendered scikit-learn.org. See: https://github.com/scikit-learn/scikit-learn/issues/21755 */display: inline-block !important;position: relative;}#sk-container-id-1 div.sk-text-repr-fallback {display: none;}</style><div id=\"sk-container-id-1\" class=\"sk-top-container\"><div class=\"sk-text-repr-fallback\"><pre>GridSearchCV(cv=5,\n",
       "             estimator=Pipeline(steps=[(&#x27;cvec&#x27;,\n",
       "                                        CountVectorizer(decode_error=&#x27;ignore&#x27;,\n",
       "                                                        strip_accents=&#x27;unicode&#x27;)),\n",
       "                                       (&#x27;mnnb&#x27;, MultinomialNB())]),\n",
       "             n_jobs=-1,\n",
       "             param_grid={&#x27;cvec__max_df&#x27;: [0.75, 0.95],\n",
       "                         &#x27;cvec__max_features&#x27;: [1000], &#x27;cvec__min_df&#x27;: [2, 3],\n",
       "                         &#x27;cvec__ngram_range&#x27;: [(1, 1)],\n",
       "                         &#x27;cvec__stop_words&#x27;: [None,\n",
       "                                              [&#x27;i&#x27;, &#x27;me&#x27;, &#x27;my&#x27;, &#x27;myself&#x27;, &#x27;we&#x27;,\n",
       "                                               &#x27;our&#x27;, &#x27;ours&#x27;, &#x27;ourselves&#x27;,\n",
       "                                               &#x27;you&#x27;, &quot;you&#x27;re&quot;, &quot;you&#x27;ve&quot;,\n",
       "                                               &quot;you&#x27;ll&quot;, &quot;you&#x27;d&quot;, &#x27;your&#x27;,\n",
       "                                               &#x27;yours&#x27;, &#x27;yourself&#x27;,\n",
       "                                               &#x27;yourselves&#x27;, &#x27;he&#x27;, &#x27;him&#x27;, &#x27;his&#x27;,\n",
       "                                               &#x27;himself&#x27;, &#x27;she&#x27;, &quot;she&#x27;s&quot;, &#x27;her&#x27;,\n",
       "                                               &#x27;hers&#x27;, &#x27;herself&#x27;, &#x27;it&#x27;, &quot;it&#x27;s&quot;,\n",
       "                                               &#x27;its&#x27;, &#x27;itself&#x27;, ...]],\n",
       "                         &#x27;mnnb__alpha&#x27;: [0.9, 1]},\n",
       "             verbose=3)</pre><b>In a Jupyter environment, please rerun this cell to show the HTML representation or trust the notebook. <br />On GitHub, the HTML representation is unable to render, please try loading this page with nbviewer.org.</b></div><div class=\"sk-container\" hidden><div class=\"sk-item sk-dashed-wrapped\"><div class=\"sk-label-container\"><div class=\"sk-label sk-toggleable\"><input class=\"sk-toggleable__control sk-hidden--visually\" id=\"sk-estimator-id-1\" type=\"checkbox\" ><label for=\"sk-estimator-id-1\" class=\"sk-toggleable__label sk-toggleable__label-arrow\">GridSearchCV</label><div class=\"sk-toggleable__content\"><pre>GridSearchCV(cv=5,\n",
       "             estimator=Pipeline(steps=[(&#x27;cvec&#x27;,\n",
       "                                        CountVectorizer(decode_error=&#x27;ignore&#x27;,\n",
       "                                                        strip_accents=&#x27;unicode&#x27;)),\n",
       "                                       (&#x27;mnnb&#x27;, MultinomialNB())]),\n",
       "             n_jobs=-1,\n",
       "             param_grid={&#x27;cvec__max_df&#x27;: [0.75, 0.95],\n",
       "                         &#x27;cvec__max_features&#x27;: [1000], &#x27;cvec__min_df&#x27;: [2, 3],\n",
       "                         &#x27;cvec__ngram_range&#x27;: [(1, 1)],\n",
       "                         &#x27;cvec__stop_words&#x27;: [None,\n",
       "                                              [&#x27;i&#x27;, &#x27;me&#x27;, &#x27;my&#x27;, &#x27;myself&#x27;, &#x27;we&#x27;,\n",
       "                                               &#x27;our&#x27;, &#x27;ours&#x27;, &#x27;ourselves&#x27;,\n",
       "                                               &#x27;you&#x27;, &quot;you&#x27;re&quot;, &quot;you&#x27;ve&quot;,\n",
       "                                               &quot;you&#x27;ll&quot;, &quot;you&#x27;d&quot;, &#x27;your&#x27;,\n",
       "                                               &#x27;yours&#x27;, &#x27;yourself&#x27;,\n",
       "                                               &#x27;yourselves&#x27;, &#x27;he&#x27;, &#x27;him&#x27;, &#x27;his&#x27;,\n",
       "                                               &#x27;himself&#x27;, &#x27;she&#x27;, &quot;she&#x27;s&quot;, &#x27;her&#x27;,\n",
       "                                               &#x27;hers&#x27;, &#x27;herself&#x27;, &#x27;it&#x27;, &quot;it&#x27;s&quot;,\n",
       "                                               &#x27;its&#x27;, &#x27;itself&#x27;, ...]],\n",
       "                         &#x27;mnnb__alpha&#x27;: [0.9, 1]},\n",
       "             verbose=3)</pre></div></div></div><div class=\"sk-parallel\"><div class=\"sk-parallel-item\"><div class=\"sk-item\"><div class=\"sk-label-container\"><div class=\"sk-label sk-toggleable\"><input class=\"sk-toggleable__control sk-hidden--visually\" id=\"sk-estimator-id-2\" type=\"checkbox\" ><label for=\"sk-estimator-id-2\" class=\"sk-toggleable__label sk-toggleable__label-arrow\">estimator: Pipeline</label><div class=\"sk-toggleable__content\"><pre>Pipeline(steps=[(&#x27;cvec&#x27;,\n",
       "                 CountVectorizer(decode_error=&#x27;ignore&#x27;,\n",
       "                                 strip_accents=&#x27;unicode&#x27;)),\n",
       "                (&#x27;mnnb&#x27;, MultinomialNB())])</pre></div></div></div><div class=\"sk-serial\"><div class=\"sk-item\"><div class=\"sk-serial\"><div class=\"sk-item\"><div class=\"sk-estimator sk-toggleable\"><input class=\"sk-toggleable__control sk-hidden--visually\" id=\"sk-estimator-id-3\" type=\"checkbox\" ><label for=\"sk-estimator-id-3\" class=\"sk-toggleable__label sk-toggleable__label-arrow\">CountVectorizer</label><div class=\"sk-toggleable__content\"><pre>CountVectorizer(decode_error=&#x27;ignore&#x27;, strip_accents=&#x27;unicode&#x27;)</pre></div></div></div><div class=\"sk-item\"><div class=\"sk-estimator sk-toggleable\"><input class=\"sk-toggleable__control sk-hidden--visually\" id=\"sk-estimator-id-4\" type=\"checkbox\" ><label for=\"sk-estimator-id-4\" class=\"sk-toggleable__label sk-toggleable__label-arrow\">MultinomialNB</label><div class=\"sk-toggleable__content\"><pre>MultinomialNB()</pre></div></div></div></div></div></div></div></div></div></div></div></div>"
      ],
      "text/plain": [
       "GridSearchCV(cv=5,\n",
       "             estimator=Pipeline(steps=[('cvec',\n",
       "                                        CountVectorizer(decode_error='ignore',\n",
       "                                                        strip_accents='unicode')),\n",
       "                                       ('mnnb', MultinomialNB())]),\n",
       "             n_jobs=-1,\n",
       "             param_grid={'cvec__max_df': [0.75, 0.95],\n",
       "                         'cvec__max_features': [1000], 'cvec__min_df': [2, 3],\n",
       "                         'cvec__ngram_range': [(1, 1)],\n",
       "                         'cvec__stop_words': [None,\n",
       "                                              ['i', 'me', 'my', 'myself', 'we',\n",
       "                                               'our', 'ours', 'ourselves',\n",
       "                                               'you', \"you're\", \"you've\",\n",
       "                                               \"you'll\", \"you'd\", 'your',\n",
       "                                               'yours', 'yourself',\n",
       "                                               'yourselves', 'he', 'him', 'his',\n",
       "                                               'himself', 'she', \"she's\", 'her',\n",
       "                                               'hers', 'herself', 'it', \"it's\",\n",
       "                                               'its', 'itself', ...]],\n",
       "                         'mnnb__alpha': [0.9, 1]},\n",
       "             verbose=3)"
      ]
     },
     "execution_count": 7,
     "metadata": {},
     "output_type": "execute_result"
    }
   ],
   "source": [
    "# Pipeline with cvec and mnnb\n",
    "cb_pipe = Pipeline([\n",
    "  ('cvec', cvec), \n",
    "  ('mnnb', mnnb)])\n",
    "\n",
    "cb_pipe_params = {\n",
    "  'cvec__stop_words': [None, custom_stop_words],\n",
    "  'cvec__ngram_range': [(1,1)],\n",
    "  'cvec__max_df': [0.75, 0.95],\n",
    "  'cvec__min_df': [2, 3],\n",
    "  'cvec__max_features': [1000],\n",
    "  'mnnb__alpha': [0.9, 1],\n",
    "  }\n",
    "\n",
    "np.random.seed(113)\n",
    "cb_gs = GridSearchCV(\n",
    "  cb_pipe, param_grid = cb_pipe_params, cv = 5,\n",
    "  verbose = 3, n_jobs = -1)\n",
    "\n",
    "# Gridsearch and fit on the training set\n",
    "cb_gs.fit(X_train, y_train)"
   ]
  },
  {
   "cell_type": "code",
   "execution_count": 8,
   "id": "83303bdf-ca16-42d7-ab2b-947a3a8e2cae",
   "metadata": {},
   "outputs": [
    {
     "data": {
      "text/plain": [
       "{'cvec__max_df': 0.75,\n",
       " 'cvec__max_features': 1000,\n",
       " 'cvec__min_df': 2,\n",
       " 'cvec__ngram_range': (1, 1),\n",
       " 'cvec__stop_words': None,\n",
       " 'mnnb__alpha': 0.9}"
      ]
     },
     "execution_count": 8,
     "metadata": {},
     "output_type": "execute_result"
    }
   ],
   "source": [
    "# See which parameters it picked\n",
    "cb_gs.best_params_"
   ]
  },
  {
   "cell_type": "code",
   "execution_count": 14,
   "id": "d9db20cd-39af-4452-86cc-6a3eccac990e",
   "metadata": {},
   "outputs": [
    {
     "data": {
      "text/plain": [
       "0.8442634461452043"
      ]
     },
     "execution_count": 14,
     "metadata": {},
     "output_type": "execute_result"
    }
   ],
   "source": [
    "# Score the model on the training set\n",
    "cb_gs.score(X_train, y_train)"
   ]
  },
  {
   "cell_type": "code",
   "execution_count": 15,
   "id": "3eced8a1-7e2c-495e-9d37-713479bd13c3",
   "metadata": {},
   "outputs": [
    {
     "data": {
      "text/plain": [
       "0.8437236731255265"
      ]
     },
     "execution_count": 15,
     "metadata": {},
     "output_type": "execute_result"
    }
   ],
   "source": [
    "# Score the model on the testing set\n",
    "cb_gs.score(X_test, y_test)"
   ]
  },
  {
   "cell_type": "markdown",
   "id": "2e5121d6-87f7-44a9-9906-ae01cc87c38f",
   "metadata": {},
   "source": [
    "Although this model performs somewhat worse overall, it provides an improvement in variance reduction.  "
   ]
  },
  {
   "cell_type": "code",
   "execution_count": 16,
   "id": "c8508429-9601-41e5-97d4-39704ebc8593",
   "metadata": {},
   "outputs": [
    {
     "data": {
      "image/png": "[encoded data removed]",
      "text/plain": [
       "<Figure size 640x480 with 2 Axes>"
      ]
     },
     "metadata": {},
     "output_type": "display_data"
    }
   ],
   "source": [
    "# Get predictions on the testing set\n",
    "yhat_model = cb_gs.predict(X_test)\n",
    "\n",
    "# Generate confusion matrix values\n",
    "cm = confusion_matrix(y_test, yhat_model)\n",
    "\n",
    "# Save confusion matrix values\n",
    "tn, fp, fn, tp = cm.ravel()\n",
    "\n",
    "# Generate confusion matrix\n",
    "cmd = ConfusionMatrixDisplay(confusion_matrix=cm, display_labels=cb_gs.classes_)\n",
    "cmd.plot();"
   ]
  },
  {
   "cell_type": "code",
   "execution_count": 28,
   "id": "887cbae0-8a8f-4101-97ff-67352dbe0dfc",
   "metadata": {},
   "outputs": [],
   "source": [
    "cvec_X = pd.DataFrame(data = cvec.fit_transform(X).todense(), columns = cvec.get_feature_names_out())"
   ]
  },
  {
   "cell_type": "code",
   "execution_count": 33,
   "id": "20efed5f-579e-426c-9b18-0462fd7cb074",
   "metadata": {},
   "outputs": [],
   "source": [
    "big = pd.merge(X, y, left_index = True, right_index = True)"
   ]
  },
  {
   "cell_type": "code",
   "execution_count": 24,
   "id": "0d57f87c-30e5-4eb8-8b01-488d5b6239bd",
   "metadata": {},
   "outputs": [],
   "source": [
    "scrapes.to_csv('../../cvec_scrapes.csv', index = False)"
   ]
  },
  {
   "cell_type": "code",
   "execution_count": null,
   "id": "18b5cc3b-1bf2-4d9e-9849-d593227e487a",
   "metadata": {},
   "outputs": [],
   "source": [
    "for i in list(range(len(big))):\n",
    "  big.loc[i, 'post_lengths']=big.loc[i,:].sum()"
   ]
  },
  {
   "cell_type": "code",
   "execution_count": null,
   "id": "e88eb868-c2bf-4c04-bb35-eef4e0644b6e",
   "metadata": {},
   "outputs": [],
   "source": [
    "cvec_X_train['post_lengths'].group"
   ]
  },
  {
   "cell_type": "markdown",
   "id": "1ac97806-a024-4d8b-8daa-08c5234dbb70",
   "metadata": {},
   "source": [
    "### Commentary"
   ]
  },
  {
   "cell_type": "markdown",
   "id": "684b6403-0eb0-4d44-8a08-52e4f45762cf",
   "metadata": {},
   "source": [
    "Both models satisfy my metric for accuracy (>80%), and the Bayes model provides excellent variance control (<0.0006).  Model 2 would be an adequate final model, but before adopting it, I gridsearched over some more hyperparameter options to see if it was possible to increase the accuracy even further without increasing variance."
   ]
  },
  {
   "cell_type": "markdown",
   "id": "b11da9a3-7f8d-4b91-a2cd-c1c7d4fc65ac",
   "metadata": {},
   "source": [
    "These gridsearches were conducted in a single cell; transparently, this was done for time.  Each search fit nearly 1500 combinations, for a total of nearly 3000, and I expected (correctly) that it would take a long time to run.  Running them in the same cell freed up my attention for a longer stretch of time.  I have used print statements throughout to make the output more readable."
   ]
  },
  {
   "cell_type": "markdown",
   "id": "df4b365b-faa8-41ba-a044-bc8d80abf070",
   "metadata": {},
   "source": [
    "### Gridsearches 3 & 4"
   ]
  },
  {
   "cell_type": "code",
   "execution_count": 65,
   "id": "2edeacb4-ac86-41cb-ac85-71c3437ff09c",
   "metadata": {},
   "outputs": [
    {
     "name": "stdout",
     "output_type": "stream",
     "text": [
      "Fitting 5 folds for each of 288 candidates, totalling 1440 fits\n"
     ]
    },
    {
     "name": "stderr",
     "output_type": "stream",
     "text": [
      "C:\\Users\\emily\\anaconda3\\Lib\\site-packages\\sklearn\\linear_model\\_sag.py:350: ConvergenceWarning: The max_iter was reached which means the coef_ did not converge\n",
      "  warnings.warn(\n"
     ]
    },
    {
     "name": "stdout",
     "output_type": "stream",
     "text": [
      "cl2_gs, training: 0.9105462715910687\n",
      "cl2_gs, testing: 0.8719460825610783\n",
      "Fitting 5 folds for each of 216 candidates, totalling 1080 fits\n",
      "cb2_gs, training: 0.8882179469175677\n",
      "cb2_gs, testing: 0.8736310025273799\n"
     ]
    }
   ],
   "source": [
    "# Pipeline with cvec and logistic regression\n",
    "# Instantiate the pipeline\n",
    "cl2_pipe = Pipeline([\n",
    "  ('cvec', cvec), \n",
    "  ('logr', logr)])\n",
    "\n",
    "# Define the parameter grid\n",
    "cl2_pipe_params = {\n",
    "  'cvec__stop_words': [None, 'english'],\n",
    "  'cvec__ngram_range': [(1,1), (1,2)],\n",
    "  'cvec__max_df': [0.7, 0.75, 0.8],\n",
    "  'cvec__min_df': [2, 10],\n",
    "  'cvec__max_features': [100, 1000, 5000],\n",
    "  'logr__penalty': ['l1', 'l2'],\n",
    "  'logr__C': [1, 1.3]\n",
    "  }\n",
    "\n",
    "# Instantiate the gridsearch with a random seed\n",
    "np.random.seed(113)\n",
    "cl2_gs = GridSearchCV(\n",
    "  cl2_pipe, param_grid = cl2_pipe_params, cv = 5,\n",
    "  verbose = 1, n_jobs = -1)\n",
    "\n",
    "# Gridsearch and fit on the training set\n",
    "cl2_gs.fit(X_train, y_train)\n",
    "\n",
    "# Print the accuracy scores\n",
    "print(f'cl2_gs, training: {cl2_gs.score(X_train, y_train)}')\n",
    "print(f'cl2_gs, testing: {cl2_gs.score(X_test, y_test)}')\n",
    "\n",
    "######\n",
    "\n",
    "# Pipeline with cvec and mnnb\n",
    "\n",
    "# Instantiate the pipeline\n",
    "cb2_pipe = Pipeline([\n",
    "  ('cvec', cvec), \n",
    "  ('mnnb', mnnb)])\n",
    "\n",
    "# Define the parameter grid\n",
    "cb2_pipe_params = {\n",
    "  'cvec__stop_words': [None, 'english'],\n",
    "  'cvec__ngram_range': [(1,1), (1,2)],\n",
    "  'cvec__max_df': [0.7, 0.75, 0.8],\n",
    "  'cvec__min_df': [2, 10],\n",
    "  'cvec__max_features': [100, 1000, 5000],\n",
    "  'mnnb__alpha': [0.85, 0.9, 0.95],\n",
    "  }\n",
    "\n",
    "# Instantiate the gridsearch with a random seed\n",
    "np.random.seed(113)\n",
    "cb2_gs = GridSearchCV(\n",
    "  cb2_pipe, param_grid = cb2_pipe_params, cv = 5,\n",
    "  verbose = 1, n_jobs = -1)\n",
    "\n",
    "# Gridsearch and fit on the training set\n",
    "cb2_gs.fit(X_train, y_train)\n",
    "\n",
    "# Print the accuracy scores\n",
    "print(f'cb2_gs, training: {cb2_gs.score(X_train, y_train)}')\n",
    "print(f'cb2_gs, testing: {cb2_gs.score(X_test, y_test)}')"
   ]
  },
  {
   "cell_type": "code",
   "execution_count": 68,
   "id": "618d4a55-c665-4985-9655-68d91398b168",
   "metadata": {},
   "outputs": [
    {
     "name": "stdout",
     "output_type": "stream",
     "text": [
      "cl2_gs, best cross val score: 0.8640617977528089\n",
      "cb2_gs, best cross val score: 0.8664509166173862\n"
     ]
    }
   ],
   "source": [
    "# Print the accuracy scores\n",
    "print(f'cl2_gs, best cross val score: {cl2_gs.best_score_}')\n",
    "print(f'cb2_gs, best cross val score: {cb2_gs.best_score_}')"
   ]
  },
  {
   "cell_type": "code",
   "execution_count": 69,
   "id": "247a42ee-9ee2-4d22-9700-4a91b514ad88",
   "metadata": {},
   "outputs": [
    {
     "name": "stdout",
     "output_type": "stream",
     "text": [
      "cl2_gs parameter choices:\n"
     ]
    },
    {
     "data": {
      "text/plain": [
       "{'cvec__max_df': 0.7,\n",
       " 'cvec__max_features': 5000,\n",
       " 'cvec__min_df': 2,\n",
       " 'cvec__ngram_range': (1, 2),\n",
       " 'cvec__stop_words': 'english',\n",
       " 'logr__C': 1,\n",
       " 'logr__penalty': 'l2'}"
      ]
     },
     "execution_count": 69,
     "metadata": {},
     "output_type": "execute_result"
    }
   ],
   "source": [
    "# See which parameters it picked\n",
    "print('cl2_gs parameter choices:')\n",
    "cl2_gs.best_params_"
   ]
  },
  {
   "cell_type": "code",
   "execution_count": 70,
   "id": "e4f7d42a-11a5-4a88-9c2c-8171a86582e0",
   "metadata": {},
   "outputs": [
    {
     "name": "stdout",
     "output_type": "stream",
     "text": [
      "cb2_gs parameter choices:\n"
     ]
    },
    {
     "data": {
      "text/plain": [
       "{'cvec__max_df': 0.7,\n",
       " 'cvec__max_features': 5000,\n",
       " 'cvec__min_df': 2,\n",
       " 'cvec__ngram_range': (1, 1),\n",
       " 'cvec__stop_words': None,\n",
       " 'mnnb__alpha': 0.85}"
      ]
     },
     "execution_count": 70,
     "metadata": {},
     "output_type": "execute_result"
    }
   ],
   "source": [
    "# See which parameters it picked\n",
    "print('cb2_gs parameter choices:')\n",
    "cb2_gs.best_params_"
   ]
  },
  {
   "cell_type": "code",
   "execution_count": 77,
   "id": "751ce7f5-fc47-4aff-9032-59ffef8faaf7",
   "metadata": {},
   "outputs": [
    {
     "name": "stdout",
     "output_type": "stream",
     "text": [
      "Confusion Matrix for Subreddit Classification\n",
      "Modeled with Count Vectorizer, Logistic Regression\n"
     ]
    },
    {
     "data": {
      "image/png": "[encoded data removed]",
      "text/plain": [
       "<Figure size 640x480 with 2 Axes>"
      ]
     },
     "metadata": {},
     "output_type": "display_data"
    }
   ],
   "source": [
    "# Get predictions on the testing set\n",
    "cl2_gs_yhat = cl2_gs.predict(X_test)\n",
    "\n",
    "# Generate confusion matrix values\n",
    "cm = confusion_matrix(y_test, cl2_gs_yhat)\n",
    "\n",
    "# Save confusion matrix values\n",
    "tn, fp, fn, tp = cm.ravel()\n",
    "\n",
    "# Generate confusion matrix\n",
    "cmd = ConfusionMatrixDisplay(confusion_matrix=cm, display_labels=cl2_gs.classes_)\n",
    "print('''Confusion Matrix for Subreddit Classification\n",
    "Modeled with Count Vectorizer, Logistic Regression''')\n",
    "cmd.plot();"
   ]
  },
  {
   "cell_type": "code",
   "execution_count": 76,
   "id": "06d7b270-2a24-4038-ab85-299a5c6f0627",
   "metadata": {},
   "outputs": [
    {
     "name": "stdout",
     "output_type": "stream",
     "text": [
      "Confusion Matrix for Subreddit Classification\n",
      "Modeled with Count Vectorizer, Multinomial Naive Bayes\n"
     ]
    },
    {
     "data": {
      "image/png": "[encoded data removed]",
      "text/plain": [
       "<Figure size 640x480 with 2 Axes>"
      ]
     },
     "metadata": {},
     "output_type": "display_data"
    }
   ],
   "source": [
    "# Get predictions on the testing set\n",
    "cb2_gs_yhat = cb2_gs.predict(X_test)\n",
    "\n",
    "# Generate confusion matrix values\n",
    "cm = confusion_matrix(y_test, cb2_gs_yhat)\n",
    "\n",
    "# Save confusion matrix values\n",
    "tn, fp, fn, tp = cm.ravel()\n",
    "\n",
    "# Generate confusion matrix\n",
    "cmd = ConfusionMatrixDisplay(confusion_matrix=cm, display_labels=cb2_gs.classes_)\n",
    "print('''Confusion Matrix for Subreddit Classification\n",
    "Modeled with Count Vectorizer, Multinomial Naive Bayes''')\n",
    "cmd.plot();"
   ]
  },
  {
   "cell_type": "markdown",
   "id": "c8d67391-df32-4858-8b70-97e6db0c27ba",
   "metadata": {},
   "source": [
    "### Commentary"
   ]
  },
  {
   "cell_type": "markdown",
   "id": "12617fe1-5401-4f2e-8db9-7be40c62e620",
   "metadata": {},
   "source": [
    "Although both models do provide modest improvements in accuracy, they also increase variance.  The logistic regression increases variance from tiny decimals to a full 4 points, and this Bayes model had a difference of >0.01 between training and testing, whereas the previous model had <0.0006.  It is perhaps not surprising that Bayes consistently outperformed logistic regression, given the stricter assumptions of logistic regression that are all but surely not met with text data like this.  While other scholars might justifiably prioritize the accuracy, I deem that my purposes are better served by reducing variance.  Future work, perhaps in collaboration with qualitative researchers, will benefit greatly from analyzing the misclassified posts, so I am less concerned with minimizing them than I am in producing the model that is most likely to be picking up on genuine differences in communication norms and least likely to be specializing itself to the training data."
   ]
  },
  {
   "cell_type": "markdown",
   "id": "ecefe8d5-e66d-4787-8669-4a0d40d73577",
   "metadata": {},
   "source": [
    "I adopt the following model:\n",
    "\n",
    "|Parameter|Value|\n",
    "|-|-|\n",
    "|Estimator|Multinomial Naive Bayes|\n",
    "|Maximum features|1000|\n",
    "|Maximum document frequency| 75%|\n",
    "|Minimum document frequency| n=2|\n",
    "|Ngram range| (1, 1) |\n",
    "|Stop words| None|\n",
    "|Smoothing alpha|0.9|\n",
    "---"
   ]
  },
  {
   "cell_type": "code",
   "execution_count": 45,
   "id": "d8f8af25-804d-46fc-ae87-b0181741ee86",
   "metadata": {},
   "outputs": [
    {
     "name": "stdout",
     "output_type": "stream",
     "text": [
      "Confusion Matrix, Counts\n",
      "[[ 699  197]\n",
      " [ 174 1304]]\n",
      "Confusion Matrix, Normalized\n",
      "[[0.78013393 0.21986607]\n",
      " [0.11772666 0.88227334]]\n"
     ]
    },
    {
     "data": {
      "image/png": "[encoded data removed]",
      "text/plain": [
       "<Figure size 640x480 with 2 Axes>"
      ]
     },
     "metadata": {},
     "output_type": "display_data"
    },
    {
     "data": {
      "image/png": "[encoded data removed]",
      "text/plain": [
       "<Figure size 640x480 with 2 Axes>"
      ]
     },
     "metadata": {},
     "output_type": "display_data"
    }
   ],
   "source": [
    "# Plotting nicer confusion matrices for the adopted model\n",
    "\n",
    "# Many, many thanks to the good people at sklearn for providing this example syntax\n",
    "# https://scikit-learn.org/stable/auto_examples/model_selection/plot_confusion_matrix\n",
    "#               .html#sphx-glr-auto-examples-model-selection-plot-confusion-matrix-py\n",
    "# And to Marta Fuentes and Dave Kanevsky for bringing it to my attention\n",
    "\n",
    "# Plot non-normalized confusion matrix\n",
    "titles_options = [\n",
    "    (\"Confusion Matrix, Counts\", None),\n",
    "    (\"Confusion Matrix, Normalized\", \"true\"),\n",
    "]\n",
    "for title, normalize in titles_options:\n",
    "    disp = ConfusionMatrixDisplay.from_predictions(\n",
    "        y_test, yhat_model,\n",
    "        display_labels=['AskPhysics', 'ELI5'],\n",
    "        cmap=plt.cm.viridis,\n",
    "        normalize=normalize,\n",
    "    )\n",
    "    disp.ax_.set_title(title)\n",
    "\n",
    "    plt.tight_layout()\n",
    "    plt.savefig(f\"../images/graphs/{title.replace(',', '').replace(' ', '_')}.png\")\n",
    "\n",
    "    print(title)\n",
    "    print(disp.confusion_matrix);\n",
    "\n",
    "plt.show();"
   ]
  },
  {
   "cell_type": "markdown",
   "id": "cf4e0bbf-2234-4e0d-89a7-4edcf1256465",
   "metadata": {},
   "source": [
    "## Conclusions and Recommendations"
   ]
  },
  {
   "cell_type": "markdown",
   "id": "77123a27-62b3-4a14-ad81-4a010cf515e9",
   "metadata": {},
   "source": [
    "I successfully built a model that can differentiate between documents from the two subreddits up to my criteria for success: an accuracy score of >80% on the testing set (84.37%), and minimal variance (<0.0006).  Although other hyperparameter combinations offered modest increases to accuracy, I chose to minimize variance in order to maximize generalizability to the subreddits as a whole.  \n",
    "\n",
    "By showing that this can be done, I have provided support for my proposition that these two subreddits could serve as useful model representations of scientific communication.  If the model can reliably tell the difference between them based on the text of their content, it implies that their members are using different communication strategies within that text.  That the model cannot always tell the difference provides fertile ground for further exploration into what key characteristics define each type of communication.\n",
    "\n",
    "Therefore, I recommend further research on the communication norms of these two subreddits, as a promising source of insight on how to improve scientific communication.  Personally, I look forward to opportunities to test more stop words, compare the results of `Countvectorizer()` with those of `TfIdf()`, and incorporate additional data into the model.  In particular, I would be interested to explore the effects of including second-level comments, especially in conjunction with the marker indicating when a comment comes from the author of the original post.  Wherever this marker is present in a second-level comment, I would be interested to attempt sentiment analysis to gain insight on how the person who asked the question feels about the answer.  I would also be interested to evaluate other data related to the text, such as whether it is a post or a comment (both were included in the current model, but not differentiated), how many (sub-)comments it received, and its upvote/downvote score.  I believe all of these items could shed valuable further light onto the vexing but valuable pursuit of successful scientific communication."
   ]
  }
 ],
 "metadata": {
  "kernelspec": {
   "display_name": "Python 3 (ipykernel)",
   "language": "python",
   "name": "python3"
  },
  "language_info": {
   "codemirror_mode": {
    "name": "ipython",
    "version": 3
   },
   "file_extension": ".py",
   "mimetype": "text/x-python",
   "name": "python",
   "nbconvert_exporter": "python",
   "pygments_lexer": "ipython3",
   "version": "3.11.7"
  }
 },
 "nbformat": 4,
 "nbformat_minor": 5
}
